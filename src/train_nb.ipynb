{
 "cells": [
  {
   "cell_type": "markdown",
   "id": "1511b67a",
   "metadata": {},
   "source": [
    "#### Installation"
   ]
  },
  {
   "cell_type": "markdown",
   "id": "a486989a",
   "metadata": {},
   "source": [
    "!pip install --no-cache-dir pandas numpy scikit-learn matplotlib seaborn jupyterlab \\\n",
    "torch torchvision transformers datasets accelerate trl wandb peft pillow bitsandbytes"
   ]
  },
  {
   "cell_type": "markdown",
   "id": "1ca6c4c1",
   "metadata": {},
   "source": [
    "#### Dependancies"
   ]
  },
  {
   "cell_type": "code",
   "execution_count": 1,
   "id": "530801b2",
   "metadata": {},
   "outputs": [],
   "source": [
    "import torch\n",
    "import wandb\n",
    "from torch.utils.data import random_split\n",
    "from transformers import TrainingArguments, Trainer\n",
    "from peft import get_peft_model, LoraConfig\n",
    "from peft.utils import prepare_model_for_kbit_training\n",
    "from transformers import BitsAndBytesConfig\n",
    "from transformers import LlavaOnevisionForConditionalGeneration\n",
    "from transformers import AutoProcessor\n",
    "\n",
    "import warnings\n",
    "warnings.filterwarnings(\"ignore\")\n",
    "\n",
    "from mimic_dataset import MIMICDataset\n",
    "from llava_dataset import LLaVAOneVisionDataset\n",
    "from data_collator import LLaVADataCollator"
   ]
  },
  {
   "cell_type": "markdown",
   "id": "51bf476f",
   "metadata": {},
   "source": [
    "### Load the Dataset"
   ]
  },
  {
   "cell_type": "code",
   "execution_count": 2,
   "id": "3ed1b2f4",
   "metadata": {},
   "outputs": [
    {
     "name": "stderr",
     "output_type": "stream",
     "text": [
      "You have video processor config saved in `preprocessor.json` file which is deprecated. Video processor configs should be saved in their own `video_preprocessor.json` file. You can rename the file or load and save the processor back which renames it automatically. Loading from `preprocessor.json` will be removed in v5.0.\n",
      "2025-05-31 14:54:48,437 - INFO - Loading dataset table from ../data/data_1k.csv\n",
      "2025-05-31 14:54:48,447 - INFO - Initial dataset size: 1000\n",
      "2025-05-31 14:54:50,741 - INFO - Filtered out 547 entries with empty or problematic reports.\n",
      "2025-05-31 14:54:50,742 - INFO - Final dataset size: 453\n"
     ]
    }
   ],
   "source": [
    "model_name = \"../models/llava-onevision-qwen2-7b-ov-hf\"\n",
    "processor = AutoProcessor.from_pretrained(model_name, use_fast=True)\n",
    "tokenizer = processor.tokenizer\n",
    "\n",
    "base_ds = MIMICDataset(dataset_csv=\"../data/data_1k.csv\")\n",
    "full_ds = LLaVAOneVisionDataset(base_ds, processor, max_length=4096, mode=\"report\")\n",
    "train_size = int(0.9 * len(full_ds))\n",
    "train_ds, eval_ds = random_split(full_ds, [train_size, len(full_ds) - train_size])"
   ]
  },
  {
   "cell_type": "code",
   "execution_count": 3,
   "id": "62910d23",
   "metadata": {},
   "outputs": [
    {
     "name": "stdout",
     "output_type": "stream",
     "text": [
      "Sample 0:\n",
      "Pixel Values Shape: torch.Size([5, 3, 384, 384])\n",
      "Image Sizes: tensor([764, 636])\n",
      "Chexpert_labels: torch.Size([14]) tensor([-1., -1., -1., -1., -1., -1., -1.,  1., -1., -1., -1., -1., -1., -1.])\n",
      "\n",
      "Decoded Input Text:\n",
      "user \n",
      "\n",
      "Analyze the provided chest X-ray and generate a valid radiology report in professional clinical language. The report must include two sections:\n",
      "\n",
      "Findings: A visual description of the anatomical structures and any abnormalities visible on the image. Use objective, medically appropriate terminology. Do not interpret beyond what is visible.\n",
      "\n",
      "Impression: A brief summary emphasizing clinically significant findings.\n",
      "\n",
      "Base the report solely on the image provided.\n",
      "assistant \n",
      "Findings: Lung volumes are low. Heart size is mildly enlarged. The mediastinal and hilar contours relatively unchanged. No pulmonary vascular congestion is noted. Small right pleural effusion appears new compared to the prior exam. There is also a small amount of fluid within the right minor fissure. Patchy bibasilar airspace opacities could reflect atelectasis but infection cannot be excluded. No pneumothorax is seen. Thoracic kyphosis is re- demonstrated with several compression deformities of the mid and lower thoracic spine appearing relatively unchanged. Diffuse demineralization of the osseous structures is again seen.\n",
      "Impression: Small right pleural effusion with patchy bibasilar airspace opacities possibly reflecting atelectasis but infection is not excluded.assistant\n",
      "\n",
      "\n",
      "Decoded Label Text:\n",
      "Findings: Lung volumes are low. Heart size is mildly enlarged. The mediastinal and hilar contours relatively unchanged. No pulmonary vascular congestion is noted. Small right pleural effusion appears new compared to the prior exam. There is also a small amount of fluid within the right minor fissure. Patchy bibasilar airspace opacities could reflect atelectasis but infection cannot be excluded. No pneumothorax is seen. Thoracic kyphosis is re- demonstrated with several compression deformities of the mid and lower thoracic spine appearing relatively unchanged. Diffuse demineralization of the osseous structures is again seen.\n",
      "Impression: Small right pleural effusion with patchy bibasilar airspace opacities possibly reflecting atelectasis but infection is not excluded.assistant\n",
      "\n"
     ]
    }
   ],
   "source": [
    "for i in range(1):\n",
    "    sample = train_ds[i]\n",
    "    print(f\"Sample {i}:\")\n",
    "    print(f\"Pixel Values Shape: {sample['pixel_values'].shape}\")\n",
    "    print(f\"Image Sizes: {sample['image_sizes']}\")\n",
    "    print(\"Chexpert_labels:\", sample[\"chexpert_labels\"].shape, sample[\"chexpert_labels\"])\n",
    "\n",
    "    # Decode input_ids\n",
    "    input_text = tokenizer.decode(sample['input_ids'], skip_special_tokens=True)\n",
    "    print(f\"\\nDecoded Input Text:\\n{input_text}\")\n",
    "\n",
    "    # Decode labels (replace -100 with pad_token_id for decoding)\n",
    "    labels_for_decoding = sample['labels'].clone()\n",
    "    labels_for_decoding[labels_for_decoding == -100] = tokenizer.pad_token_id\n",
    "    label_text = tokenizer.decode(labels_for_decoding, skip_special_tokens=True)\n",
    "    print(f\"\\nDecoded Label Text:\\n{label_text}\")"
   ]
  },
  {
   "cell_type": "markdown",
   "id": "92a08292",
   "metadata": {},
   "source": [
    "### Test DataCollator"
   ]
  },
  {
   "cell_type": "code",
   "execution_count": 4,
   "id": "99d42531",
   "metadata": {},
   "outputs": [
    {
     "name": "stdout",
     "output_type": "stream",
     "text": [
      "Before collation:\n",
      "Sample 0:\n",
      "  input_ids shape: torch.Size([4096])\n",
      "  attention_mask shape: torch.Size([4096])\n",
      "  labels shape: torch.Size([4096])\n",
      "  pixel_values shape: torch.Size([5, 3, 384, 384])\n",
      "  image_sizes shape: torch.Size([2])\n",
      "  chexpert_labels shape: torch.Size([14])\n",
      "\n",
      "Sample 1:\n",
      "  input_ids shape: torch.Size([4096])\n",
      "  attention_mask shape: torch.Size([4096])\n",
      "  labels shape: torch.Size([4096])\n",
      "  pixel_values shape: torch.Size([5, 3, 384, 384])\n",
      "  image_sizes shape: torch.Size([2])\n",
      "  chexpert_labels shape: torch.Size([14])\n",
      "\n",
      "Sample 2:\n",
      "  input_ids shape: torch.Size([4096])\n",
      "  attention_mask shape: torch.Size([4096])\n",
      "  labels shape: torch.Size([4096])\n",
      "  pixel_values shape: torch.Size([5, 3, 384, 384])\n",
      "  image_sizes shape: torch.Size([2])\n",
      "  chexpert_labels shape: torch.Size([14])\n",
      "\n",
      "Applying data collator...\n",
      "\n",
      "After collation:\n",
      "Batch keys: ['input_ids', 'attention_mask', 'labels', 'pixel_values', 'image_sizes', 'chexpert_labels']\n",
      "input_ids shape: torch.Size([3, 4096])\n",
      "input_ids dtype: torch.int64\n",
      "attention_mask shape: torch.Size([3, 4096])\n",
      "attention_mask dtype: torch.int64\n",
      "labels shape: torch.Size([3, 4096])\n",
      "labels dtype: torch.int64\n",
      "pixel_values shape: torch.Size([3, 5, 3, 384, 384])\n",
      "pixel_values dtype: torch.float32\n",
      "image_sizes shape: torch.Size([3, 2])\n",
      "image_sizes dtype: torch.int64\n",
      "chexpert_labels shape: torch.Size([3, 14])\n",
      "chexpert_labels dtype: torch.float32\n",
      "\n",
      "Validation:\n",
      "All input_ids have same length: True\n",
      "All attention_masks have same length: True\n",
      "All labels have same length: True\n",
      "Pad token ID: 151643\n",
      "Sample 0: 4017 masked tokens, 770 padding tokens\n",
      "Sample 1: 4004 masked tokens, 433 padding tokens\n",
      "Sample 2: 3955 masked tokens, 708 padding tokens\n",
      "\n",
      "Data collator test completed successfully!\n"
     ]
    }
   ],
   "source": [
    "# Create data collator\n",
    "data_collator = LLaVADataCollator(\n",
    "    tokenizer=processor.tokenizer,\n",
    "    padding=True,\n",
    "    max_length=4096\n",
    ")\n",
    "\n",
    "# Test with a small batch\n",
    "batch_size = 3\n",
    "samples = [full_ds[i] for i in range(batch_size)]\n",
    "\n",
    "print(\"Before collation:\")\n",
    "for i, sample in enumerate(samples):\n",
    "    print(f\"Sample {i}:\")\n",
    "    print(f\"  input_ids shape: {sample['input_ids'].shape}\")\n",
    "    print(f\"  attention_mask shape: {sample['attention_mask'].shape}\")\n",
    "    print(f\"  labels shape: {sample['labels'].shape}\")\n",
    "    print(f\"  pixel_values shape: {sample['pixel_values'].shape}\")\n",
    "    print(f\"  image_sizes shape: {sample['image_sizes'].shape}\")\n",
    "    print(f\"  chexpert_labels shape: {sample['chexpert_labels'].shape}\")\n",
    "    print()\n",
    "\n",
    "# Apply data collator\n",
    "print(\"Applying data collator...\")\n",
    "batch = data_collator(samples)\n",
    "\n",
    "print(\"\\nAfter collation:\")\n",
    "print(f\"Batch keys: {list(batch.keys())}\")\n",
    "for key, value in batch.items():\n",
    "    if isinstance(value, torch.Tensor):\n",
    "        print(f\"{key} shape: {value.shape}\")\n",
    "        print(f\"{key} dtype: {value.dtype}\")\n",
    "    else:\n",
    "        print(f\"{key}: {type(value)}\")\n",
    "\n",
    "# Verify all sequences have same length\n",
    "input_ids = batch['input_ids']\n",
    "attention_mask = batch['attention_mask']\n",
    "labels = batch['labels']\n",
    "\n",
    "print(f\"\\nValidation:\")\n",
    "print(f\"All input_ids have same length: {all(len(seq) == len(input_ids[0]) for seq in input_ids)}\")\n",
    "print(f\"All attention_masks have same length: {all(len(seq) == len(attention_mask[0]) for seq in attention_mask)}\")\n",
    "print(f\"All labels have same length: {all(len(seq) == len(labels[0]) for seq in labels)}\")\n",
    "\n",
    "# Check padding tokens\n",
    "pad_token_id = processor.tokenizer.pad_token_id\n",
    "print(f\"Pad token ID: {pad_token_id}\")\n",
    "\n",
    "# Check for proper masking in labels\n",
    "for i in range(batch_size):\n",
    "    num_neg100 = (labels[i] == -100).sum().item()\n",
    "    num_padding = (input_ids[i] == pad_token_id).sum().item()\n",
    "    print(f\"Sample {i}: {num_neg100} masked tokens, {num_padding} padding tokens\")\n",
    "\n",
    "print(\"\\nData collator test completed successfully!\")"
   ]
  },
  {
   "cell_type": "markdown",
   "id": "1ea84fa7",
   "metadata": {},
   "source": [
    "### Preparations"
   ]
  },
  {
   "cell_type": "code",
   "execution_count": null,
   "id": "57412a1d",
   "metadata": {},
   "outputs": [
    {
     "name": "stderr",
     "output_type": "stream",
     "text": [
      "2025-05-31 14:57:17,623 - INFO - Loading dataset table from ../data/data_8k.csv\n",
      "2025-05-31 14:57:17,675 - INFO - Initial dataset size: 8000\n",
      "2025-05-31 14:57:34,691 - INFO - Filtered out 4256 entries with empty or problematic reports.\n",
      "2025-05-31 14:57:34,692 - INFO - Final dataset size: 3744\n"
     ]
    },
    {
     "name": "stdout",
     "output_type": "stream",
     "text": [
      "Analyzing image resolutions...\n",
      "Processed 0/3744 images\n",
      "Processed 100/3744 images\n",
      "Processed 200/3744 images\n",
      "Processed 300/3744 images\n",
      "Processed 400/3744 images\n",
      "Processed 500/3744 images\n",
      "Processed 600/3744 images\n",
      "Processed 700/3744 images\n",
      "Processed 800/3744 images\n",
      "Processed 900/3744 images\n",
      "Processed 1000/3744 images\n",
      "Processed 1100/3744 images\n",
      "Processed 1200/3744 images\n",
      "Processed 1300/3744 images\n",
      "Processed 1400/3744 images\n",
      "Processed 1500/3744 images\n",
      "Processed 1600/3744 images\n",
      "Processed 1700/3744 images\n",
      "Processed 1800/3744 images\n",
      "Processed 1900/3744 images\n",
      "Processed 2000/3744 images\n",
      "Processed 2100/3744 images\n",
      "Processed 2200/3744 images\n",
      "Processed 2300/3744 images\n",
      "Processed 2400/3744 images\n",
      "Processed 2500/3744 images\n",
      "Processed 2600/3744 images\n",
      "Processed 2700/3744 images\n",
      "Processed 2800/3744 images\n",
      "Processed 2900/3744 images\n",
      "Processed 3000/3744 images\n",
      "Processed 3100/3744 images\n",
      "Processed 3200/3744 images\n",
      "Processed 3300/3744 images\n",
      "Processed 3400/3744 images\n",
      "Processed 3500/3744 images\n",
      "Processed 3600/3744 images\n",
      "Processed 3700/3744 images\n",
      "\n",
      "Dataset Analysis Results:\n",
      "Total images: 3744\n",
      "Unique resolutions: 457\n",
      "\n",
      "Width statistics:\n",
      "  Min: 366, Max: 764\n",
      "  Most common widths: [(636, 1935), (764, 608), (505, 366), (434, 194), (440, 22), (439, 19), (629, 17), (444, 15), (446, 15), (635, 14)]\n",
      "\n",
      "Height statistics:\n",
      "  Min: 378, Max: 764\n",
      "  Most common heights: [(764, 1967), (505, 729), (636, 605), (434, 53), (763, 20), (632, 9), (762, 8), (634, 8), (445, 6), (492, 6)]\n",
      "\n",
      "Aspect ratio statistics:\n",
      "  Min: 0.725, Max: 1.327\n",
      "\n",
      "Top 20 most common resolutions:\n",
      "  636x764: 1862 images (49.7%)\n",
      "  764x636: 581 images (15.5%)\n",
      "  505x505: 270 images (7.2%)\n",
      "  434x505: 191 images (5.1%)\n",
      "  505x434: 52 images (1.4%)\n",
      "  440x505: 17 images (0.5%)\n",
      "  444x505: 15 images (0.4%)\n",
      "  636x763: 14 images (0.4%)\n",
      "  449x505: 12 images (0.3%)\n",
      "  439x505: 12 images (0.3%)\n",
      "  635x764: 11 images (0.3%)\n",
      "  629x764: 11 images (0.3%)\n",
      "  448x505: 11 images (0.3%)\n",
      "  446x505: 11 images (0.3%)\n",
      "  447x505: 11 images (0.3%)\n",
      "  443x505: 10 images (0.3%)\n",
      "  627x764: 10 images (0.3%)\n",
      "  445x505: 10 images (0.3%)\n",
      "  442x505: 9 images (0.2%)\n",
      "  450x505: 9 images (0.2%)\n"
     ]
    },
    {
     "data": {
      "image/png": "[encoded data removed]",
      "text/plain": [
       "<Figure size 1200x1000 with 4 Axes>"
      ]
     },
     "metadata": {},
     "output_type": "display_data"
    },
    {
     "name": "stdout",
     "output_type": "stream",
     "text": [
      "\n",
      "============================================================\n",
      "CROPPING STRATEGY SUGGESTIONS:\n",
      "============================================================\n",
      "\n",
      "Most common width: 636 (1935 images)\n",
      "Most common height: 764 (1967 images)\n",
      "\n",
      "Minimum dimensions: 366x378\n",
      "Suggested crop size: 366x378\n",
      "Images that would need cropping: 3744/3744 (100.0%)\n"
     ]
    }
   ],
   "source": [
    "import pandas as pd\n",
    "from collections import Counter\n",
    "import matplotlib.pyplot as plt\n",
    "from mimic_dataset import MIMICDataset\n",
    "\n",
    "def analyze_dataset_resolutions(dataset_path):\n",
    "    \"\"\"Analyze image resolutions in the dataset\"\"\"\n",
    "    dataset = MIMICDataset(dataset_csv=dataset_path)\n",
    "    \n",
    "    resolutions = []\n",
    "    widths = []\n",
    "    heights = []\n",
    "    aspect_ratios = []\n",
    "    \n",
    "    print(\"Analyzing image resolutions...\")\n",
    "    for i in range(len(dataset)):\n",
    "        if i % 100 == 0:\n",
    "            print(f\"Processed {i}/{len(dataset)} images\")\n",
    "            \n",
    "        image, _, _, _ = dataset[i]\n",
    "        w, h = image.size\n",
    "        \n",
    "        resolutions.append((w, h))\n",
    "        widths.append(w)\n",
    "        heights.append(h)\n",
    "        aspect_ratios.append(w/h)\n",
    "    \n",
    "    # Count unique resolutions\n",
    "    resolution_counts = Counter(resolutions)\n",
    "    \n",
    "    print(f\"\\nDataset Analysis Results:\")\n",
    "    print(f\"Total images: {len(dataset)}\")\n",
    "    print(f\"Unique resolutions: {len(resolution_counts)}\")\n",
    "    \n",
    "    print(f\"\\nWidth statistics:\")\n",
    "    print(f\"  Min: {min(widths)}, Max: {max(widths)}\")\n",
    "    print(f\"  Most common widths: {Counter(widths).most_common(10)}\")\n",
    "    \n",
    "    print(f\"\\nHeight statistics:\")\n",
    "    print(f\"  Min: {min(heights)}, Max: {max(heights)}\")\n",
    "    print(f\"  Most common heights: {Counter(heights).most_common(10)}\")\n",
    "    \n",
    "    print(f\"\\nAspect ratio statistics:\")\n",
    "    print(f\"  Min: {min(aspect_ratios):.3f}, Max: {max(aspect_ratios):.3f}\")\n",
    "    \n",
    "    print(f\"\\nTop 20 most common resolutions:\")\n",
    "    for (w, h), count in resolution_counts.most_common(20):\n",
    "        percentage = (count / len(dataset)) * 100\n",
    "        print(f\"  {w}x{h}: {count} images ({percentage:.1f}%)\")\n",
    "    \n",
    "    # Plot distributions\n",
    "    fig, axes = plt.subplots(2, 2, figsize=(12, 10))\n",
    "    \n",
    "    # Width distribution\n",
    "    axes[0,0].hist(widths, bins=50, alpha=0.7)\n",
    "    axes[0,0].set_title('Width Distribution')\n",
    "    axes[0,0].set_xlabel('Width (pixels)')\n",
    "    axes[0,0].set_ylabel('Count')\n",
    "    \n",
    "    # Height distribution\n",
    "    axes[0,1].hist(heights, bins=50, alpha=0.7)\n",
    "    axes[0,1].set_title('Height Distribution')\n",
    "    axes[0,1].set_xlabel('Height (pixels)')\n",
    "    axes[0,1].set_ylabel('Count')\n",
    "    \n",
    "    # Aspect ratio distribution\n",
    "    axes[1,0].hist(aspect_ratios, bins=50, alpha=0.7)\n",
    "    axes[1,0].set_title('Aspect Ratio Distribution')\n",
    "    axes[1,0].set_xlabel('Width/Height Ratio')\n",
    "    axes[1,0].set_ylabel('Count')\n",
    "    \n",
    "    # Resolution scatter plot\n",
    "    axes[1,1].scatter(widths, heights, alpha=0.5, s=1)\n",
    "    axes[1,1].set_title('Width vs Height')\n",
    "    axes[1,1].set_xlabel('Width (pixels)')\n",
    "    axes[1,1].set_ylabel('Height (pixels)')\n",
    "    \n",
    "    plt.tight_layout()\n",
    "    plt.show()\n",
    "    \n",
    "    return resolution_counts, widths, heights, aspect_ratios\n",
    "\n",
    "\n",
    "resolution_counts, widths, heights, aspect_ratios = analyze_dataset_resolutions(\"../data/data_8k.csv\")\n",
    "\n",
    "# Suggest cropping strategy\n",
    "print(f\"\\n\" + \"=\"*60)\n",
    "print(\"CROPPING STRATEGY SUGGESTIONS:\")\n",
    "print(\"=\"*60)\n",
    "\n",
    "# Find common dimensions\n",
    "width_counter = Counter(widths)\n",
    "height_counter = Counter(heights)\n",
    "\n",
    "most_common_width = width_counter.most_common(1)[0][0]\n",
    "most_common_height = height_counter.most_common(1)[0][0]\n",
    "\n",
    "print(f\"\\nMost common width: {most_common_width} ({width_counter[most_common_width]} images)\")\n",
    "print(f\"Most common height: {most_common_height} ({height_counter[most_common_height]} images)\")\n",
    "\n",
    "# Check if we can crop to common size\n",
    "min_width = min(widths)\n",
    "min_height = min(heights)\n",
    "\n",
    "print(f\"\\nMinimum dimensions: {min_width}x{min_height}\")\n",
    "\n",
    "# Suggest target sizes\n",
    "target_width = min(most_common_width, min_width)\n",
    "target_height = min(most_common_height, min_height)\n",
    "\n",
    "print(f\"Suggested crop size: {target_width}x{target_height}\")\n",
    "\n",
    "# Calculate how many images would need cropping\n",
    "crop_needed = sum(1 for w, h in zip(widths, heights) if w > target_width or h > target_height)\n",
    "print(f\"Images that would need cropping: {crop_needed}/{len(widths)} ({crop_needed/len(widths)*100:.1f}%)\")"
   ]
  },
  {
   "cell_type": "markdown",
   "id": "44fb6b68",
   "metadata": {},
   "source": [
    "### Training"
   ]
  },
  {
   "cell_type": "code",
   "execution_count": 5,
   "id": "c13ddc86",
   "metadata": {},
   "outputs": [
    {
     "name": "stderr",
     "output_type": "stream",
     "text": [
      "\u001b[34m\u001b[1mwandb\u001b[0m: Currently logged in as: \u001b[33mbvasilyev01\u001b[0m to \u001b[32mhttps://api.wandb.ai\u001b[0m. Use \u001b[1m`wandb login --relogin`\u001b[0m to force relogin\n"
     ]
    },
    {
     "data": {
      "text/html": [
       "Tracking run with wandb version 0.19.11"
      ],
      "text/plain": [
       "<IPython.core.display.HTML object>"
      ]
     },
     "metadata": {},
     "output_type": "display_data"
    },
    {
     "data": {
      "text/html": [
       "Run data is saved locally in <code>/workspace/thesis-code/src/wandb/run-20250531_142423-e4p783xh</code>"
      ],
      "text/plain": [
       "<IPython.core.display.HTML object>"
      ]
     },
     "metadata": {},
     "output_type": "display_data"
    },
    {
     "data": {
      "text/html": [
       "Syncing run <strong><a href='https://wandb.ai/bvasilyev01/LLaVA-OneVision%20Fine-tuning/runs/e4p783xh' target=\"_blank\">llava-lora-qk-mm-crossqv-r32-PA</a></strong> to <a href='https://wandb.ai/bvasilyev01/LLaVA-OneVision%20Fine-tuning' target=\"_blank\">Weights & Biases</a> (<a href='https://wandb.me/developer-guide' target=\"_blank\">docs</a>)<br>"
      ],
      "text/plain": [
       "<IPython.core.display.HTML object>"
      ]
     },
     "metadata": {},
     "output_type": "display_data"
    },
    {
     "data": {
      "text/html": [
       " View project at <a href='https://wandb.ai/bvasilyev01/LLaVA-OneVision%20Fine-tuning' target=\"_blank\">https://wandb.ai/bvasilyev01/LLaVA-OneVision%20Fine-tuning</a>"
      ],
      "text/plain": [
       "<IPython.core.display.HTML object>"
      ]
     },
     "metadata": {},
     "output_type": "display_data"
    },
    {
     "data": {
      "text/html": [
       " View run at <a href='https://wandb.ai/bvasilyev01/LLaVA-OneVision%20Fine-tuning/runs/e4p783xh' target=\"_blank\">https://wandb.ai/bvasilyev01/LLaVA-OneVision%20Fine-tuning/runs/e4p783xh</a>"
      ],
      "text/plain": [
       "<IPython.core.display.HTML object>"
      ]
     },
     "metadata": {},
     "output_type": "display_data"
    },
    {
     "name": "stderr",
     "output_type": "stream",
     "text": [
      "2025-05-31 14:24:24,537 - INFO - We will use 90% of the memory on device 0 for storing the model, and 10% for the buffer to avoid OOM. You can set `max_memory` in to a higher value to use more memory (at your own risk).\n"
     ]
    },
    {
     "data": {
      "application/vnd.jupyter.widget-view+json": {
       "model_id": "8717e8dc63ac45d9a512ca91ca5eaf44",
       "version_major": 2,
       "version_minor": 0
      },
      "text/plain": [
       "Loading checkpoint shards:   0%|          | 0/4 [00:00<?, ?it/s]"
      ]
     },
     "metadata": {},
     "output_type": "display_data"
    },
    {
     "name": "stdout",
     "output_type": "stream",
     "text": [
      "trainable params: 27,852,800 || all params: 8,058,660,384 || trainable%: 0.3456\n"
     ]
    },
    {
     "name": "stderr",
     "output_type": "stream",
     "text": [
      "\u001b[34m\u001b[1mwandb\u001b[0m: \u001b[33mWARNING\u001b[0m The `run_name` is currently set to the same value as `TrainingArguments.output_dir`. If this was not intended, please specify a different run name by setting the `TrainingArguments.run_name` parameter.\n",
      "`use_cache=True` is incompatible with gradient checkpointing. Setting `use_cache=False`.\n",
      "`loss_type=None` was set in the config but it is unrecognised.Using the default loss: `ForCausalLMLoss`.\n"
     ]
    },
    {
     "data": {
      "text/html": [
       "\n",
       "    <div>\n",
       "      \n",
       "      <progress value='29' max='272' style='width:300px; height:20px; vertical-align: middle;'></progress>\n",
       "      [ 29/272 03:55 < 35:21, 0.11 it/s, Epoch 0.21/2]\n",
       "    </div>\n",
       "    <table border=\"1\" class=\"dataframe\">\n",
       "  <thead>\n",
       " <tr style=\"text-align: left;\">\n",
       "      <th>Step</th>\n",
       "      <th>Training Loss</th>\n",
       "      <th>Validation Loss</th>\n",
       "    </tr>\n",
       "  </thead>\n",
       "  <tbody>\n",
       "  </tbody>\n",
       "</table><p>"
      ],
      "text/plain": [
       "<IPython.core.display.HTML object>"
      ]
     },
     "metadata": {},
     "output_type": "display_data"
    },
    {
     "ename": "RuntimeError",
     "evalue": "stack expects each tensor to be equal size, but got [5, 3, 384, 384] at entry 0 and [3, 3, 384, 384] at entry 2",
     "output_type": "error",
     "traceback": [
      "\u001b[0;31m---------------------------------------------------------------------------\u001b[0m",
      "\u001b[0;31mRuntimeError\u001b[0m                              Traceback (most recent call last)",
      "Cell \u001b[0;32mIn[5], line 62\u001b[0m\n\u001b[1;32m     35\u001b[0m training_args \u001b[38;5;241m=\u001b[39m TrainingArguments(\n\u001b[1;32m     36\u001b[0m     output_dir\u001b[38;5;241m=\u001b[39m\u001b[38;5;124m\"\u001b[39m\u001b[38;5;124m../models/llava-lora-output\u001b[39m\u001b[38;5;124m\"\u001b[39m,\n\u001b[1;32m     37\u001b[0m     per_device_train_batch_size\u001b[38;5;241m=\u001b[39m\u001b[38;5;241m3\u001b[39m,\n\u001b[0;32m   (...)\u001b[0m\n\u001b[1;32m     50\u001b[0m     label_names\u001b[38;5;241m=\u001b[39m[\u001b[38;5;124m\"\u001b[39m\u001b[38;5;124mlabels\u001b[39m\u001b[38;5;124m\"\u001b[39m]\n\u001b[1;32m     51\u001b[0m )\n\u001b[1;32m     53\u001b[0m trainer \u001b[38;5;241m=\u001b[39m Trainer(\n\u001b[1;32m     54\u001b[0m     model\u001b[38;5;241m=\u001b[39mmodel,\n\u001b[1;32m     55\u001b[0m     args\u001b[38;5;241m=\u001b[39mtraining_args,\n\u001b[0;32m   (...)\u001b[0m\n\u001b[1;32m     59\u001b[0m     data_collator\u001b[38;5;241m=\u001b[39mdata_collator\n\u001b[1;32m     60\u001b[0m )\n\u001b[0;32m---> 62\u001b[0m \u001b[43mtrainer\u001b[49m\u001b[38;5;241;43m.\u001b[39;49m\u001b[43mtrain\u001b[49m\u001b[43m(\u001b[49m\u001b[43m)\u001b[49m\n\u001b[1;32m     63\u001b[0m trainer\u001b[38;5;241m.\u001b[39msave_model(\u001b[38;5;124mf\u001b[39m\u001b[38;5;124m\"\u001b[39m\u001b[38;5;124m../models/\u001b[39m\u001b[38;5;132;01m{\u001b[39;00mft_model_name\u001b[38;5;132;01m}\u001b[39;00m\u001b[38;5;124m\"\u001b[39m)\n\u001b[1;32m     64\u001b[0m wandb\u001b[38;5;241m.\u001b[39mfinish()\n",
      "File \u001b[0;32m/usr/local/lib/python3.10/dist-packages/transformers/trainer.py:2240\u001b[0m, in \u001b[0;36mTrainer.train\u001b[0;34m(self, resume_from_checkpoint, trial, ignore_keys_for_eval, **kwargs)\u001b[0m\n\u001b[1;32m   2238\u001b[0m         hf_hub_utils\u001b[38;5;241m.\u001b[39menable_progress_bars()\n\u001b[1;32m   2239\u001b[0m \u001b[38;5;28;01melse\u001b[39;00m:\n\u001b[0;32m-> 2240\u001b[0m     \u001b[38;5;28;01mreturn\u001b[39;00m \u001b[43minner_training_loop\u001b[49m\u001b[43m(\u001b[49m\n\u001b[1;32m   2241\u001b[0m \u001b[43m        \u001b[49m\u001b[43margs\u001b[49m\u001b[38;5;241;43m=\u001b[39;49m\u001b[43margs\u001b[49m\u001b[43m,\u001b[49m\n\u001b[1;32m   2242\u001b[0m \u001b[43m        \u001b[49m\u001b[43mresume_from_checkpoint\u001b[49m\u001b[38;5;241;43m=\u001b[39;49m\u001b[43mresume_from_checkpoint\u001b[49m\u001b[43m,\u001b[49m\n\u001b[1;32m   2243\u001b[0m \u001b[43m        \u001b[49m\u001b[43mtrial\u001b[49m\u001b[38;5;241;43m=\u001b[39;49m\u001b[43mtrial\u001b[49m\u001b[43m,\u001b[49m\n\u001b[1;32m   2244\u001b[0m \u001b[43m        \u001b[49m\u001b[43mignore_keys_for_eval\u001b[49m\u001b[38;5;241;43m=\u001b[39;49m\u001b[43mignore_keys_for_eval\u001b[49m\u001b[43m,\u001b[49m\n\u001b[1;32m   2245\u001b[0m \u001b[43m    \u001b[49m\u001b[43m)\u001b[49m\n",
      "File \u001b[0;32m/usr/local/lib/python3.10/dist-packages/transformers/trainer.py:2509\u001b[0m, in \u001b[0;36mTrainer._inner_training_loop\u001b[0;34m(self, batch_size, args, resume_from_checkpoint, trial, ignore_keys_for_eval)\u001b[0m\n\u001b[1;32m   2507\u001b[0m update_step \u001b[38;5;241m+\u001b[39m\u001b[38;5;241m=\u001b[39m \u001b[38;5;241m1\u001b[39m\n\u001b[1;32m   2508\u001b[0m num_batches \u001b[38;5;241m=\u001b[39m args\u001b[38;5;241m.\u001b[39mgradient_accumulation_steps \u001b[38;5;28;01mif\u001b[39;00m update_step \u001b[38;5;241m!=\u001b[39m (total_updates \u001b[38;5;241m-\u001b[39m \u001b[38;5;241m1\u001b[39m) \u001b[38;5;28;01melse\u001b[39;00m remainder\n\u001b[0;32m-> 2509\u001b[0m batch_samples, num_items_in_batch \u001b[38;5;241m=\u001b[39m \u001b[38;5;28;43mself\u001b[39;49m\u001b[38;5;241;43m.\u001b[39;49m\u001b[43mget_batch_samples\u001b[49m\u001b[43m(\u001b[49m\u001b[43mepoch_iterator\u001b[49m\u001b[43m,\u001b[49m\u001b[43m \u001b[49m\u001b[43mnum_batches\u001b[49m\u001b[43m,\u001b[49m\u001b[43m \u001b[49m\u001b[43margs\u001b[49m\u001b[38;5;241;43m.\u001b[39;49m\u001b[43mdevice\u001b[49m\u001b[43m)\u001b[49m\n\u001b[1;32m   2510\u001b[0m \u001b[38;5;28;01mfor\u001b[39;00m i, inputs \u001b[38;5;129;01min\u001b[39;00m \u001b[38;5;28menumerate\u001b[39m(batch_samples):\n\u001b[1;32m   2511\u001b[0m     step \u001b[38;5;241m+\u001b[39m\u001b[38;5;241m=\u001b[39m \u001b[38;5;241m1\u001b[39m\n",
      "File \u001b[0;32m/usr/local/lib/python3.10/dist-packages/transformers/trainer.py:5263\u001b[0m, in \u001b[0;36mTrainer.get_batch_samples\u001b[0;34m(self, epoch_iterator, num_batches, device)\u001b[0m\n\u001b[1;32m   5261\u001b[0m \u001b[38;5;28;01mfor\u001b[39;00m _ \u001b[38;5;129;01min\u001b[39;00m \u001b[38;5;28mrange\u001b[39m(num_batches):\n\u001b[1;32m   5262\u001b[0m     \u001b[38;5;28;01mtry\u001b[39;00m:\n\u001b[0;32m-> 5263\u001b[0m         batch_samples\u001b[38;5;241m.\u001b[39mappend(\u001b[38;5;28;43mnext\u001b[39;49m\u001b[43m(\u001b[49m\u001b[43mepoch_iterator\u001b[49m\u001b[43m)\u001b[49m)\n\u001b[1;32m   5264\u001b[0m     \u001b[38;5;28;01mexcept\u001b[39;00m \u001b[38;5;167;01mStopIteration\u001b[39;00m:\n\u001b[1;32m   5265\u001b[0m         \u001b[38;5;28;01mbreak\u001b[39;00m\n",
      "File \u001b[0;32m/usr/local/lib/python3.10/dist-packages/accelerate/data_loader.py:577\u001b[0m, in \u001b[0;36mDataLoaderShard.__iter__\u001b[0;34m(self)\u001b[0m\n\u001b[1;32m    575\u001b[0m     current_batch \u001b[38;5;241m=\u001b[39m send_to_device(current_batch, \u001b[38;5;28mself\u001b[39m\u001b[38;5;241m.\u001b[39mdevice, non_blocking\u001b[38;5;241m=\u001b[39m\u001b[38;5;28mself\u001b[39m\u001b[38;5;241m.\u001b[39m_non_blocking)\n\u001b[1;32m    576\u001b[0m \u001b[38;5;28mself\u001b[39m\u001b[38;5;241m.\u001b[39m_update_state_dict()\n\u001b[0;32m--> 577\u001b[0m next_batch \u001b[38;5;241m=\u001b[39m \u001b[38;5;28;43mnext\u001b[39;49m\u001b[43m(\u001b[49m\u001b[43mdataloader_iter\u001b[49m\u001b[43m)\u001b[49m\n\u001b[1;32m    578\u001b[0m \u001b[38;5;28;01mif\u001b[39;00m batch_index \u001b[38;5;241m>\u001b[39m\u001b[38;5;241m=\u001b[39m \u001b[38;5;28mself\u001b[39m\u001b[38;5;241m.\u001b[39mskip_batches:\n\u001b[1;32m    579\u001b[0m     \u001b[38;5;28;01myield\u001b[39;00m current_batch\n",
      "File \u001b[0;32m/usr/local/lib/python3.10/dist-packages/torch/utils/data/dataloader.py:631\u001b[0m, in \u001b[0;36m_BaseDataLoaderIter.__next__\u001b[0;34m(self)\u001b[0m\n\u001b[1;32m    628\u001b[0m \u001b[38;5;28;01mif\u001b[39;00m \u001b[38;5;28mself\u001b[39m\u001b[38;5;241m.\u001b[39m_sampler_iter \u001b[38;5;129;01mis\u001b[39;00m \u001b[38;5;28;01mNone\u001b[39;00m:\n\u001b[1;32m    629\u001b[0m     \u001b[38;5;66;03m# TODO(https://github.com/pytorch/pytorch/issues/76750)\u001b[39;00m\n\u001b[1;32m    630\u001b[0m     \u001b[38;5;28mself\u001b[39m\u001b[38;5;241m.\u001b[39m_reset()  \u001b[38;5;66;03m# type: ignore[call-arg]\u001b[39;00m\n\u001b[0;32m--> 631\u001b[0m data \u001b[38;5;241m=\u001b[39m \u001b[38;5;28;43mself\u001b[39;49m\u001b[38;5;241;43m.\u001b[39;49m\u001b[43m_next_data\u001b[49m\u001b[43m(\u001b[49m\u001b[43m)\u001b[49m\n\u001b[1;32m    632\u001b[0m \u001b[38;5;28mself\u001b[39m\u001b[38;5;241m.\u001b[39m_num_yielded \u001b[38;5;241m+\u001b[39m\u001b[38;5;241m=\u001b[39m \u001b[38;5;241m1\u001b[39m\n\u001b[1;32m    633\u001b[0m \u001b[38;5;28;01mif\u001b[39;00m \u001b[38;5;28mself\u001b[39m\u001b[38;5;241m.\u001b[39m_dataset_kind \u001b[38;5;241m==\u001b[39m _DatasetKind\u001b[38;5;241m.\u001b[39mIterable \u001b[38;5;129;01mand\u001b[39;00m \\\n\u001b[1;32m    634\u001b[0m         \u001b[38;5;28mself\u001b[39m\u001b[38;5;241m.\u001b[39m_IterableDataset_len_called \u001b[38;5;129;01mis\u001b[39;00m \u001b[38;5;129;01mnot\u001b[39;00m \u001b[38;5;28;01mNone\u001b[39;00m \u001b[38;5;129;01mand\u001b[39;00m \\\n\u001b[1;32m    635\u001b[0m         \u001b[38;5;28mself\u001b[39m\u001b[38;5;241m.\u001b[39m_num_yielded \u001b[38;5;241m>\u001b[39m \u001b[38;5;28mself\u001b[39m\u001b[38;5;241m.\u001b[39m_IterableDataset_len_called:\n",
      "File \u001b[0;32m/usr/local/lib/python3.10/dist-packages/torch/utils/data/dataloader.py:675\u001b[0m, in \u001b[0;36m_SingleProcessDataLoaderIter._next_data\u001b[0;34m(self)\u001b[0m\n\u001b[1;32m    673\u001b[0m \u001b[38;5;28;01mdef\u001b[39;00m \u001b[38;5;21m_next_data\u001b[39m(\u001b[38;5;28mself\u001b[39m):\n\u001b[1;32m    674\u001b[0m     index \u001b[38;5;241m=\u001b[39m \u001b[38;5;28mself\u001b[39m\u001b[38;5;241m.\u001b[39m_next_index()  \u001b[38;5;66;03m# may raise StopIteration\u001b[39;00m\n\u001b[0;32m--> 675\u001b[0m     data \u001b[38;5;241m=\u001b[39m \u001b[38;5;28;43mself\u001b[39;49m\u001b[38;5;241;43m.\u001b[39;49m\u001b[43m_dataset_fetcher\u001b[49m\u001b[38;5;241;43m.\u001b[39;49m\u001b[43mfetch\u001b[49m\u001b[43m(\u001b[49m\u001b[43mindex\u001b[49m\u001b[43m)\u001b[49m  \u001b[38;5;66;03m# may raise StopIteration\u001b[39;00m\n\u001b[1;32m    676\u001b[0m     \u001b[38;5;28;01mif\u001b[39;00m \u001b[38;5;28mself\u001b[39m\u001b[38;5;241m.\u001b[39m_pin_memory:\n\u001b[1;32m    677\u001b[0m         data \u001b[38;5;241m=\u001b[39m _utils\u001b[38;5;241m.\u001b[39mpin_memory\u001b[38;5;241m.\u001b[39mpin_memory(data, \u001b[38;5;28mself\u001b[39m\u001b[38;5;241m.\u001b[39m_pin_memory_device)\n",
      "File \u001b[0;32m/usr/local/lib/python3.10/dist-packages/torch/utils/data/_utils/fetch.py:54\u001b[0m, in \u001b[0;36m_MapDatasetFetcher.fetch\u001b[0;34m(self, possibly_batched_index)\u001b[0m\n\u001b[1;32m     52\u001b[0m \u001b[38;5;28;01melse\u001b[39;00m:\n\u001b[1;32m     53\u001b[0m     data \u001b[38;5;241m=\u001b[39m \u001b[38;5;28mself\u001b[39m\u001b[38;5;241m.\u001b[39mdataset[possibly_batched_index]\n\u001b[0;32m---> 54\u001b[0m \u001b[38;5;28;01mreturn\u001b[39;00m \u001b[38;5;28;43mself\u001b[39;49m\u001b[38;5;241;43m.\u001b[39;49m\u001b[43mcollate_fn\u001b[49m\u001b[43m(\u001b[49m\u001b[43mdata\u001b[49m\u001b[43m)\u001b[49m\n",
      "File \u001b[0;32m/workspace/thesis-code/src/data_collator.py:58\u001b[0m, in \u001b[0;36mLLaVADataCollator.__call__\u001b[0;34m(self, features)\u001b[0m\n\u001b[1;32m     56\u001b[0m \u001b[38;5;66;03m# Handle image data\u001b[39;00m\n\u001b[1;32m     57\u001b[0m pixel_values \u001b[38;5;241m=\u001b[39m [f[\u001b[38;5;124m\"\u001b[39m\u001b[38;5;124mpixel_values\u001b[39m\u001b[38;5;124m\"\u001b[39m] \u001b[38;5;28;01mfor\u001b[39;00m f \u001b[38;5;129;01min\u001b[39;00m features]\n\u001b[0;32m---> 58\u001b[0m batch[\u001b[38;5;124m\"\u001b[39m\u001b[38;5;124mpixel_values\u001b[39m\u001b[38;5;124m\"\u001b[39m] \u001b[38;5;241m=\u001b[39m \u001b[43mtorch\u001b[49m\u001b[38;5;241;43m.\u001b[39;49m\u001b[43mstack\u001b[49m\u001b[43m(\u001b[49m\u001b[43mpixel_values\u001b[49m\u001b[43m)\u001b[49m\n\u001b[1;32m     60\u001b[0m \u001b[38;5;66;03m# Handle image sizes\u001b[39;00m\n\u001b[1;32m     61\u001b[0m image_sizes \u001b[38;5;241m=\u001b[39m [f[\u001b[38;5;124m\"\u001b[39m\u001b[38;5;124mimage_sizes\u001b[39m\u001b[38;5;124m\"\u001b[39m] \u001b[38;5;28;01mfor\u001b[39;00m f \u001b[38;5;129;01min\u001b[39;00m features]\n",
      "\u001b[0;31mRuntimeError\u001b[0m: stack expects each tensor to be equal size, but got [5, 3, 384, 384] at entry 0 and [3, 3, 384, 384] at entry 2"
     ]
    }
   ],
   "source": [
    "ft_model_name = \"llava-lora-qk-mm-crossqv-r32-PA\"\n",
    "wandb.init(project=\"LLaVA-OneVision Fine-tuning\", name=ft_model_name)\n",
    "\n",
    "bnb_config = BitsAndBytesConfig(\n",
    "    load_in_4bit=True,\n",
    "    bnb_4bit_quant_type=\"nf4\",\n",
    "    bnb_4bit_compute_dtype=torch.float16\n",
    ")\n",
    "\n",
    "model = LlavaOnevisionForConditionalGeneration.from_pretrained(\n",
    "        model_name,\n",
    "        quantization_config=bnb_config,\n",
    "        device_map=\"auto\",\n",
    "        torch_dtype=torch.float16,\n",
    "        low_cpu_mem_usage=True,\n",
    ")\n",
    "\n",
    "lora_config = LoraConfig(\n",
    "        r=64,\n",
    "        lora_alpha=64,\n",
    "        target_modules=[\"q_proj\", \"v_proj\", #\"k_proj\", \n",
    "                        #\"dense_h_to_4h\",\n",
    "                        #\"dense_4h_to_h\",\n",
    "                        \"mm_projector\",\n",
    "                        \"cross_attn.q_proj\", \"cross_attn.v_proj\"],\n",
    "        lora_dropout=0.05,\n",
    "        bias=\"none\",\n",
    "        task_type=\"CAUSAL_LM\"\n",
    "    )\n",
    "model = prepare_model_for_kbit_training(model)\n",
    "model = get_peft_model(model, lora_config)\n",
    "model.print_trainable_parameters()\n",
    "model.to(\"cuda\")\n",
    "\n",
    "training_args = TrainingArguments(\n",
    "    output_dir=\"../models/llava-lora-output\",\n",
    "    per_device_train_batch_size=3,\n",
    "    per_device_eval_batch_size=3,\n",
    "    num_train_epochs=2,\n",
    "    learning_rate=1e-5,\n",
    "    warmup_steps=50,\n",
    "    logging_steps=2,\n",
    "    eval_strategy=\"steps\",\n",
    "    eval_steps=250,\n",
    "    save_strategy=\"epoch\",\n",
    "    save_total_limit=2,\n",
    "    report_to=\"wandb\",\n",
    "    remove_unused_columns=False,\n",
    "    fp16=True,\n",
    "    label_names=[\"labels\"]\n",
    ")\n",
    "\n",
    "trainer = Trainer(\n",
    "    model=model,\n",
    "    args=training_args,\n",
    "    train_dataset=train_ds,\n",
    "    eval_dataset=eval_ds,\n",
    "    tokenizer=processor.tokenizer,\n",
    "    data_collator=data_collator\n",
    ")\n",
    "\n",
    "trainer.train()\n",
    "trainer.save_model(f\"../models/{ft_model_name}\")\n",
    "wandb.finish()"
   ]
  }
 ],
 "metadata": {
  "kernelspec": {
   "display_name": "Python 3",
   "language": "python",
   "name": "python3"
  },
  "language_info": {
   "codemirror_mode": {
    "name": "ipython",
    "version": 3
   },
   "file_extension": ".py",
   "mimetype": "text/x-python",
   "name": "python",
   "nbconvert_exporter": "python",
   "pygments_lexer": "ipython3",
   "version": "3.10.12"
  }
 },
 "nbformat": 4,
 "nbformat_minor": 5
}
